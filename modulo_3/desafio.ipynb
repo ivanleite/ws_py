{
 "metadata": {
  "language_info": {
   "codemirror_mode": {
    "name": "ipython",
    "version": 3
   },
   "file_extension": ".py",
   "mimetype": "text/x-python",
   "name": "python",
   "nbconvert_exporter": "python",
   "pygments_lexer": "ipython3",
   "version": "3.7.7-final"
  },
  "orig_nbformat": 2,
  "kernelspec": {
   "name": "Python 3.7.7 64-bit ('machine_learning': conda)",
   "display_name": "Python 3.7.7 64-bit ('machine_learning': conda)",
   "metadata": {
    "interpreter": {
     "hash": "d3a826ea3ea7fc07be459bb879f118ecdc1d95d1cb9cb1a9f9c6aea58d2947cb"
    }
   }
  }
 },
 "nbformat": 4,
 "nbformat_minor": 2,
 "cells": [
  {
   "cell_type": "code",
   "execution_count": 31,
   "metadata": {},
   "outputs": [],
   "source": [
    "# importando modulos basicos\n",
    "import pandas as pd #biblioteca para manipulação de dados\n",
    "import numpy as np #biblioteca para utilizacao de vetores e matrizes"
   ]
  },
  {
   "cell_type": "code",
   "execution_count": 32,
   "metadata": {},
   "outputs": [
    {
     "output_type": "execute_result",
     "data": {
      "text/plain": [
       "   V1      V2    V3   V4   V5  V6   V7   V8   V9   V10  Class\n",
       "0  65  Female   0.7  0.1  187  16   18  6.8  3.3  0.90      1\n",
       "1  62    Male  10.9  5.5  699  64  100  7.5  3.2  0.74      1\n",
       "2  62    Male   7.3  4.1  490  60   68  7.0  3.3  0.89      1\n",
       "3  58    Male   1.0  0.4  182  14   20  6.8  3.4  1.00      1\n",
       "4  72    Male   3.9  2.0  195  27   59  7.3  2.4  0.40      1"
      ],
      "text/html": "<div>\n<style scoped>\n    .dataframe tbody tr th:only-of-type {\n        vertical-align: middle;\n    }\n\n    .dataframe tbody tr th {\n        vertical-align: top;\n    }\n\n    .dataframe thead th {\n        text-align: right;\n    }\n</style>\n<table border=\"1\" class=\"dataframe\">\n  <thead>\n    <tr style=\"text-align: right;\">\n      <th></th>\n      <th>V1</th>\n      <th>V2</th>\n      <th>V3</th>\n      <th>V4</th>\n      <th>V5</th>\n      <th>V6</th>\n      <th>V7</th>\n      <th>V8</th>\n      <th>V9</th>\n      <th>V10</th>\n      <th>Class</th>\n    </tr>\n  </thead>\n  <tbody>\n    <tr>\n      <th>0</th>\n      <td>65</td>\n      <td>Female</td>\n      <td>0.7</td>\n      <td>0.1</td>\n      <td>187</td>\n      <td>16</td>\n      <td>18</td>\n      <td>6.8</td>\n      <td>3.3</td>\n      <td>0.90</td>\n      <td>1</td>\n    </tr>\n    <tr>\n      <th>1</th>\n      <td>62</td>\n      <td>Male</td>\n      <td>10.9</td>\n      <td>5.5</td>\n      <td>699</td>\n      <td>64</td>\n      <td>100</td>\n      <td>7.5</td>\n      <td>3.2</td>\n      <td>0.74</td>\n      <td>1</td>\n    </tr>\n    <tr>\n      <th>2</th>\n      <td>62</td>\n      <td>Male</td>\n      <td>7.3</td>\n      <td>4.1</td>\n      <td>490</td>\n      <td>60</td>\n      <td>68</td>\n      <td>7.0</td>\n      <td>3.3</td>\n      <td>0.89</td>\n      <td>1</td>\n    </tr>\n    <tr>\n      <th>3</th>\n      <td>58</td>\n      <td>Male</td>\n      <td>1.0</td>\n      <td>0.4</td>\n      <td>182</td>\n      <td>14</td>\n      <td>20</td>\n      <td>6.8</td>\n      <td>3.4</td>\n      <td>1.00</td>\n      <td>1</td>\n    </tr>\n    <tr>\n      <th>4</th>\n      <td>72</td>\n      <td>Male</td>\n      <td>3.9</td>\n      <td>2.0</td>\n      <td>195</td>\n      <td>27</td>\n      <td>59</td>\n      <td>7.3</td>\n      <td>2.4</td>\n      <td>0.40</td>\n      <td>1</td>\n    </tr>\n  </tbody>\n</table>\n</div>"
     },
     "metadata": {},
     "execution_count": 32
    }
   ],
   "source": [
    "# Lendo o arquivo csv indicado\n",
    "df = pd.read_csv('./data/phpOJxGL9.csv')\n",
    "df.head(5)"
   ]
  },
  {
   "cell_type": "code",
   "execution_count": 33,
   "metadata": {},
   "outputs": [
    {
     "output_type": "stream",
     "name": "stdout",
     "text": [
      "<class 'pandas.core.frame.DataFrame'>\nRangeIndex: 583 entries, 0 to 582\nData columns (total 11 columns):\n #   Column  Non-Null Count  Dtype  \n---  ------  --------------  -----  \n 0   V1      583 non-null    int64  \n 1   V2      583 non-null    object \n 2   V3      583 non-null    float64\n 3   V4      583 non-null    float64\n 4   V5      583 non-null    int64  \n 5   V6      583 non-null    int64  \n 6   V7      583 non-null    int64  \n 7   V8      583 non-null    float64\n 8   V9      583 non-null    float64\n 9   V10     583 non-null    float64\n 10  Class   583 non-null    int64  \ndtypes: float64(5), int64(5), object(1)\nmemory usage: 50.2+ KB\n"
     ]
    }
   ],
   "source": [
    "# verificando se existe dados faltantes\n",
    "df.info()"
   ]
  },
  {
   "cell_type": "code",
   "execution_count": 34,
   "metadata": {},
   "outputs": [
    {
     "output_type": "execute_result",
     "data": {
      "text/plain": [
       "               V1          V3          V4           V5           V6  \\\n",
       "count  583.000000  583.000000  583.000000   583.000000   583.000000   \n",
       "mean    44.746141    3.298799    1.486106   290.576329    80.713551   \n",
       "std     16.189833    6.209522    2.808498   242.937989   182.620356   \n",
       "min      4.000000    0.400000    0.100000    63.000000    10.000000   \n",
       "25%     33.000000    0.800000    0.200000   175.500000    23.000000   \n",
       "50%     45.000000    1.000000    0.300000   208.000000    35.000000   \n",
       "75%     58.000000    2.600000    1.300000   298.000000    60.500000   \n",
       "max     90.000000   75.000000   19.700000  2110.000000  2000.000000   \n",
       "\n",
       "                V7          V8          V9         V10       Class  \n",
       "count   583.000000  583.000000  583.000000  583.000000  583.000000  \n",
       "mean    109.910806    6.483190    3.141852    0.947064    1.286449  \n",
       "std     288.918529    1.085451    0.795519    0.318492    0.452490  \n",
       "min      10.000000    2.700000    0.900000    0.300000    1.000000  \n",
       "25%      25.000000    5.800000    2.600000    0.700000    1.000000  \n",
       "50%      42.000000    6.600000    3.100000    0.947064    1.000000  \n",
       "75%      87.000000    7.200000    3.800000    1.100000    2.000000  \n",
       "max    4929.000000    9.600000    5.500000    2.800000    2.000000  "
      ],
      "text/html": "<div>\n<style scoped>\n    .dataframe tbody tr th:only-of-type {\n        vertical-align: middle;\n    }\n\n    .dataframe tbody tr th {\n        vertical-align: top;\n    }\n\n    .dataframe thead th {\n        text-align: right;\n    }\n</style>\n<table border=\"1\" class=\"dataframe\">\n  <thead>\n    <tr style=\"text-align: right;\">\n      <th></th>\n      <th>V1</th>\n      <th>V3</th>\n      <th>V4</th>\n      <th>V5</th>\n      <th>V6</th>\n      <th>V7</th>\n      <th>V8</th>\n      <th>V9</th>\n      <th>V10</th>\n      <th>Class</th>\n    </tr>\n  </thead>\n  <tbody>\n    <tr>\n      <th>count</th>\n      <td>583.000000</td>\n      <td>583.000000</td>\n      <td>583.000000</td>\n      <td>583.000000</td>\n      <td>583.000000</td>\n      <td>583.000000</td>\n      <td>583.000000</td>\n      <td>583.000000</td>\n      <td>583.000000</td>\n      <td>583.000000</td>\n    </tr>\n    <tr>\n      <th>mean</th>\n      <td>44.746141</td>\n      <td>3.298799</td>\n      <td>1.486106</td>\n      <td>290.576329</td>\n      <td>80.713551</td>\n      <td>109.910806</td>\n      <td>6.483190</td>\n      <td>3.141852</td>\n      <td>0.947064</td>\n      <td>1.286449</td>\n    </tr>\n    <tr>\n      <th>std</th>\n      <td>16.189833</td>\n      <td>6.209522</td>\n      <td>2.808498</td>\n      <td>242.937989</td>\n      <td>182.620356</td>\n      <td>288.918529</td>\n      <td>1.085451</td>\n      <td>0.795519</td>\n      <td>0.318492</td>\n      <td>0.452490</td>\n    </tr>\n    <tr>\n      <th>min</th>\n      <td>4.000000</td>\n      <td>0.400000</td>\n      <td>0.100000</td>\n      <td>63.000000</td>\n      <td>10.000000</td>\n      <td>10.000000</td>\n      <td>2.700000</td>\n      <td>0.900000</td>\n      <td>0.300000</td>\n      <td>1.000000</td>\n    </tr>\n    <tr>\n      <th>25%</th>\n      <td>33.000000</td>\n      <td>0.800000</td>\n      <td>0.200000</td>\n      <td>175.500000</td>\n      <td>23.000000</td>\n      <td>25.000000</td>\n      <td>5.800000</td>\n      <td>2.600000</td>\n      <td>0.700000</td>\n      <td>1.000000</td>\n    </tr>\n    <tr>\n      <th>50%</th>\n      <td>45.000000</td>\n      <td>1.000000</td>\n      <td>0.300000</td>\n      <td>208.000000</td>\n      <td>35.000000</td>\n      <td>42.000000</td>\n      <td>6.600000</td>\n      <td>3.100000</td>\n      <td>0.947064</td>\n      <td>1.000000</td>\n    </tr>\n    <tr>\n      <th>75%</th>\n      <td>58.000000</td>\n      <td>2.600000</td>\n      <td>1.300000</td>\n      <td>298.000000</td>\n      <td>60.500000</td>\n      <td>87.000000</td>\n      <td>7.200000</td>\n      <td>3.800000</td>\n      <td>1.100000</td>\n      <td>2.000000</td>\n    </tr>\n    <tr>\n      <th>max</th>\n      <td>90.000000</td>\n      <td>75.000000</td>\n      <td>19.700000</td>\n      <td>2110.000000</td>\n      <td>2000.000000</td>\n      <td>4929.000000</td>\n      <td>9.600000</td>\n      <td>5.500000</td>\n      <td>2.800000</td>\n      <td>2.000000</td>\n    </tr>\n  </tbody>\n</table>\n</div>"
     },
     "metadata": {},
     "execution_count": 34
    }
   ],
   "source": [
    "# verificando dados estatisticos\n",
    "df.describe()"
   ]
  },
  {
   "cell_type": "code",
   "execution_count": 35,
   "metadata": {},
   "outputs": [
    {
     "output_type": "execute_result",
     "data": {
      "text/plain": [
       "   V1  V2    V3   V4   V5  V6   V7   V8   V9   V10  Class\n",
       "0  65   0   0.7  0.1  187  16   18  6.8  3.3  0.90      1\n",
       "1  62   1  10.9  5.5  699  64  100  7.5  3.2  0.74      1\n",
       "2  62   1   7.3  4.1  490  60   68  7.0  3.3  0.89      1\n",
       "3  58   1   1.0  0.4  182  14   20  6.8  3.4  1.00      1\n",
       "4  72   1   3.9  2.0  195  27   59  7.3  2.4  0.40      1"
      ],
      "text/html": "<div>\n<style scoped>\n    .dataframe tbody tr th:only-of-type {\n        vertical-align: middle;\n    }\n\n    .dataframe tbody tr th {\n        vertical-align: top;\n    }\n\n    .dataframe thead th {\n        text-align: right;\n    }\n</style>\n<table border=\"1\" class=\"dataframe\">\n  <thead>\n    <tr style=\"text-align: right;\">\n      <th></th>\n      <th>V1</th>\n      <th>V2</th>\n      <th>V3</th>\n      <th>V4</th>\n      <th>V5</th>\n      <th>V6</th>\n      <th>V7</th>\n      <th>V8</th>\n      <th>V9</th>\n      <th>V10</th>\n      <th>Class</th>\n    </tr>\n  </thead>\n  <tbody>\n    <tr>\n      <th>0</th>\n      <td>65</td>\n      <td>0</td>\n      <td>0.7</td>\n      <td>0.1</td>\n      <td>187</td>\n      <td>16</td>\n      <td>18</td>\n      <td>6.8</td>\n      <td>3.3</td>\n      <td>0.90</td>\n      <td>1</td>\n    </tr>\n    <tr>\n      <th>1</th>\n      <td>62</td>\n      <td>1</td>\n      <td>10.9</td>\n      <td>5.5</td>\n      <td>699</td>\n      <td>64</td>\n      <td>100</td>\n      <td>7.5</td>\n      <td>3.2</td>\n      <td>0.74</td>\n      <td>1</td>\n    </tr>\n    <tr>\n      <th>2</th>\n      <td>62</td>\n      <td>1</td>\n      <td>7.3</td>\n      <td>4.1</td>\n      <td>490</td>\n      <td>60</td>\n      <td>68</td>\n      <td>7.0</td>\n      <td>3.3</td>\n      <td>0.89</td>\n      <td>1</td>\n    </tr>\n    <tr>\n      <th>3</th>\n      <td>58</td>\n      <td>1</td>\n      <td>1.0</td>\n      <td>0.4</td>\n      <td>182</td>\n      <td>14</td>\n      <td>20</td>\n      <td>6.8</td>\n      <td>3.4</td>\n      <td>1.00</td>\n      <td>1</td>\n    </tr>\n    <tr>\n      <th>4</th>\n      <td>72</td>\n      <td>1</td>\n      <td>3.9</td>\n      <td>2.0</td>\n      <td>195</td>\n      <td>27</td>\n      <td>59</td>\n      <td>7.3</td>\n      <td>2.4</td>\n      <td>0.40</td>\n      <td>1</td>\n    </tr>\n  </tbody>\n</table>\n</div>"
     },
     "metadata": {},
     "execution_count": 35
    }
   ],
   "source": [
    "# tratando dados categoricos e iniciando a contagem a partir do zero\n",
    "female_male_dict = {\n",
    "    'Female':0,\n",
    "    'Male':1\n",
    "}\n",
    "# liver_or_not_dict = {\n",
    "#     1:0,\n",
    "#     2:1\n",
    "# }\n",
    "df['V2'] = df['V2'].map(female_male_dict)\n",
    "#df['Class'] = df['Class'].map(liver_or_not_dict)\n",
    "df.head(5)"
   ]
  },
  {
   "cell_type": "code",
   "execution_count": 36,
   "metadata": {},
   "outputs": [
    {
     "output_type": "execute_result",
     "data": {
      "text/plain": [
       "               V1          V2          V3          V4           V5  \\\n",
       "count  583.000000  583.000000  583.000000  583.000000   583.000000   \n",
       "mean    44.746141    0.756432    3.298799    1.486106   290.576329   \n",
       "std     16.189833    0.429603    6.209522    2.808498   242.937989   \n",
       "min      4.000000    0.000000    0.400000    0.100000    63.000000   \n",
       "25%     33.000000    1.000000    0.800000    0.200000   175.500000   \n",
       "50%     45.000000    1.000000    1.000000    0.300000   208.000000   \n",
       "75%     58.000000    1.000000    2.600000    1.300000   298.000000   \n",
       "max     90.000000    1.000000   75.000000   19.700000  2110.000000   \n",
       "\n",
       "                V6           V7          V8          V9         V10  \\\n",
       "count   583.000000   583.000000  583.000000  583.000000  583.000000   \n",
       "mean     80.713551   109.910806    6.483190    3.141852    0.947064   \n",
       "std     182.620356   288.918529    1.085451    0.795519    0.318492   \n",
       "min      10.000000    10.000000    2.700000    0.900000    0.300000   \n",
       "25%      23.000000    25.000000    5.800000    2.600000    0.700000   \n",
       "50%      35.000000    42.000000    6.600000    3.100000    0.947064   \n",
       "75%      60.500000    87.000000    7.200000    3.800000    1.100000   \n",
       "max    2000.000000  4929.000000    9.600000    5.500000    2.800000   \n",
       "\n",
       "            Class  \n",
       "count  583.000000  \n",
       "mean     1.286449  \n",
       "std      0.452490  \n",
       "min      1.000000  \n",
       "25%      1.000000  \n",
       "50%      1.000000  \n",
       "75%      2.000000  \n",
       "max      2.000000  "
      ],
      "text/html": "<div>\n<style scoped>\n    .dataframe tbody tr th:only-of-type {\n        vertical-align: middle;\n    }\n\n    .dataframe tbody tr th {\n        vertical-align: top;\n    }\n\n    .dataframe thead th {\n        text-align: right;\n    }\n</style>\n<table border=\"1\" class=\"dataframe\">\n  <thead>\n    <tr style=\"text-align: right;\">\n      <th></th>\n      <th>V1</th>\n      <th>V2</th>\n      <th>V3</th>\n      <th>V4</th>\n      <th>V5</th>\n      <th>V6</th>\n      <th>V7</th>\n      <th>V8</th>\n      <th>V9</th>\n      <th>V10</th>\n      <th>Class</th>\n    </tr>\n  </thead>\n  <tbody>\n    <tr>\n      <th>count</th>\n      <td>583.000000</td>\n      <td>583.000000</td>\n      <td>583.000000</td>\n      <td>583.000000</td>\n      <td>583.000000</td>\n      <td>583.000000</td>\n      <td>583.000000</td>\n      <td>583.000000</td>\n      <td>583.000000</td>\n      <td>583.000000</td>\n      <td>583.000000</td>\n    </tr>\n    <tr>\n      <th>mean</th>\n      <td>44.746141</td>\n      <td>0.756432</td>\n      <td>3.298799</td>\n      <td>1.486106</td>\n      <td>290.576329</td>\n      <td>80.713551</td>\n      <td>109.910806</td>\n      <td>6.483190</td>\n      <td>3.141852</td>\n      <td>0.947064</td>\n      <td>1.286449</td>\n    </tr>\n    <tr>\n      <th>std</th>\n      <td>16.189833</td>\n      <td>0.429603</td>\n      <td>6.209522</td>\n      <td>2.808498</td>\n      <td>242.937989</td>\n      <td>182.620356</td>\n      <td>288.918529</td>\n      <td>1.085451</td>\n      <td>0.795519</td>\n      <td>0.318492</td>\n      <td>0.452490</td>\n    </tr>\n    <tr>\n      <th>min</th>\n      <td>4.000000</td>\n      <td>0.000000</td>\n      <td>0.400000</td>\n      <td>0.100000</td>\n      <td>63.000000</td>\n      <td>10.000000</td>\n      <td>10.000000</td>\n      <td>2.700000</td>\n      <td>0.900000</td>\n      <td>0.300000</td>\n      <td>1.000000</td>\n    </tr>\n    <tr>\n      <th>25%</th>\n      <td>33.000000</td>\n      <td>1.000000</td>\n      <td>0.800000</td>\n      <td>0.200000</td>\n      <td>175.500000</td>\n      <td>23.000000</td>\n      <td>25.000000</td>\n      <td>5.800000</td>\n      <td>2.600000</td>\n      <td>0.700000</td>\n      <td>1.000000</td>\n    </tr>\n    <tr>\n      <th>50%</th>\n      <td>45.000000</td>\n      <td>1.000000</td>\n      <td>1.000000</td>\n      <td>0.300000</td>\n      <td>208.000000</td>\n      <td>35.000000</td>\n      <td>42.000000</td>\n      <td>6.600000</td>\n      <td>3.100000</td>\n      <td>0.947064</td>\n      <td>1.000000</td>\n    </tr>\n    <tr>\n      <th>75%</th>\n      <td>58.000000</td>\n      <td>1.000000</td>\n      <td>2.600000</td>\n      <td>1.300000</td>\n      <td>298.000000</td>\n      <td>60.500000</td>\n      <td>87.000000</td>\n      <td>7.200000</td>\n      <td>3.800000</td>\n      <td>1.100000</td>\n      <td>2.000000</td>\n    </tr>\n    <tr>\n      <th>max</th>\n      <td>90.000000</td>\n      <td>1.000000</td>\n      <td>75.000000</td>\n      <td>19.700000</td>\n      <td>2110.000000</td>\n      <td>2000.000000</td>\n      <td>4929.000000</td>\n      <td>9.600000</td>\n      <td>5.500000</td>\n      <td>2.800000</td>\n      <td>2.000000</td>\n    </tr>\n  </tbody>\n</table>\n</div>"
     },
     "metadata": {},
     "execution_count": 36
    }
   ],
   "source": [
    "df.describe()"
   ]
  },
  {
   "cell_type": "code",
   "execution_count": 37,
   "metadata": {},
   "outputs": [],
   "source": [
    "# armazenando os labels em um array\n",
    "labels = np.array(df['Class'])\n",
    "\n",
    "# removendo a coluna de labels do df original\n",
    "df = df.drop('Class', axis = 1)\n",
    "\n",
    "# convertendo df para array\n",
    "data = np.array(df)"
   ]
  },
  {
   "cell_type": "code",
   "execution_count": 38,
   "metadata": {},
   "outputs": [],
   "source": [
    "# Modelar o SVC e o Random Forest Classifier, com Random Search parasintonia de hiperparâmetros e validação cruzada estratificada, usando as parametrizações abaixo.\n",
    "from sklearn.ensemble import RandomForestClassifier\n",
    "from sklearn.svm import SVC\n",
    "from sklearn.model_selection import StratifiedKFold\n",
    "from sklearn.model_selection import RandomizedSearchCV\n",
    "from scipy.stats import uniform\n",
    "from scipy.stats import randint\n",
    "from sklearn.metrics import f1_score, make_scorer"
   ]
  },
  {
   "cell_type": "code",
   "execution_count": 39,
   "metadata": {},
   "outputs": [
    {
     "output_type": "execute_result",
     "data": {
      "text/plain": [
       "RandomizedSearchCV(cv=StratifiedKFold(n_splits=10, random_state=None, shuffle=False),\n",
       "                   estimator=SVC(), n_iter=5,\n",
       "                   param_distributions={'C': <scipy.stats._distn_infrastructure.rv_frozen object at 0x7fcedaaa9d90>,\n",
       "                                        'kernel': ['sigmoid', 'rbf']},\n",
       "                   random_state=42, scoring=make_scorer(f1_score))"
      ]
     },
     "metadata": {},
     "execution_count": 39
    }
   ],
   "source": [
    "#definindo hiperparâmetros\n",
    "# d. Parâmetro de kernel: i. Sigmoidal e RBF.\n",
    "# e. Parâmetro de regularização C: ii. Distribuição uniforme variando entre 1 e 10\n",
    "distributions = dict(kernel = ['sigmoid', 'rbf'], \n",
    "                     C = uniform(loc=0, scale=10))\n",
    "\n",
    "#definindo o tipo de validacao cruzada e o numero de folds\n",
    "# b. Kfold estratificado com 10 conjuntos.\n",
    "cv_strat = StratifiedKFold(n_splits = 10)\n",
    "\n",
    "#instânciando meu classificador\n",
    "classifier = SVC()\n",
    "\n",
    "#definindo a estrategia de score a partir da metrica f1\n",
    "# c. Métrica de avaliação f1\n",
    "f1 = make_scorer(f1_score)\n",
    "\n",
    "#instanciando e modelando o grid search com os hiperparametros e a validação definidas.\n",
    "# f. Random_state = 42.\n",
    "# g. Número de iterações = 5.\n",
    "random_cv = RandomizedSearchCV(classifier, distributions, cv = cv_strat, scoring = f1, random_state = 42, n_iter = 5)\n",
    "random_cv.fit(data, labels)"
   ]
  },
  {
   "cell_type": "code",
   "execution_count": 40,
   "metadata": {},
   "outputs": [
    {
     "output_type": "stream",
     "name": "stdout",
     "text": [
      "Melhor resultado f1: 0.832818081808181\n\n\nMelhor configuração de hiperparâmetros: {'C': 1.834347898661638, 'kernel': 'rbf'}\n\n\nConfigurações de todos os hiperparâmetros do melhor estimado encontrado pelo RandomizedSeearch: \n SVC(C=1.834347898661638)\n"
     ]
    }
   ],
   "source": [
    "# 6. Avaliar o resultado da modelagem usando as métricas:\n",
    "# a. best_score_\n",
    "# b. best_params_\n",
    "# c. best_estimator_\n",
    "print('Melhor resultado f1:', random_cv.best_score_)\n",
    "print('\\n\\nMelhor configuração de hiperparâmetros:', random_cv.best_params_)\n",
    "print( '\\n\\nConfigurações de todos os hiperparâmetros do melhor estimado encontrado pelo RandomizedSeearch: \\n', random_cv.best_estimator_)"
   ]
  },
  {
   "cell_type": "code",
   "execution_count": 41,
   "metadata": {},
   "outputs": [
    {
     "output_type": "execute_result",
     "data": {
      "text/plain": [
       "RandomizedSearchCV(cv=StratifiedKFold(n_splits=10, random_state=None, shuffle=False),\n",
       "                   estimator=RandomForestClassifier(random_state=42), n_iter=5,\n",
       "                   param_distributions={'bootstrap': [True, False],\n",
       "                                        'criterion': ['gini', 'entropy'],\n",
       "                                        'n_estimators': <scipy.stats._distn_infrastructure.rv_frozen object at 0x7fceda9ff850>},\n",
       "                   random_state=42, scoring=make_scorer(f1_score))"
      ]
     },
     "metadata": {},
     "execution_count": 41
    }
   ],
   "source": [
    "# 7. Repetir o processo usando o Random Forest:\n",
    "#definindo o tipo de validacao cruzada e o numero de folds\n",
    "# b. Kfold estratificado com 10 conjuntos.\n",
    "cv_strat = StratifiedKFold(n_splits = 10)\n",
    "\n",
    "#definindo a estrategia de score a partir da metrica f1\n",
    "# c. Métrica de avaliação f1: i. f1 = make_scorer(f1_score)\n",
    "f1 = make_scorer(f1_score)\n",
    "\n",
    "#definindo hiperparâmetros\n",
    "# d. Parâmetro do número de árvores: i. Distribuição aleatória inteira de valores entre 100 e 200.\n",
    "# e. Parâmetro Bootstrap: i. Verdadeiro e Falso.\n",
    "# f. Parâmetro Criterion: i. Gini e Entropy\n",
    "distributions1 = dict(n_estimators = randint(100, 200),\n",
    "                      bootstrap = [True, False],\n",
    "                      criterion = ['gini', 'entropy'])\n",
    "\n",
    "#instânciando meu classificador\n",
    "# a. Faça a instanciação do Random Forest fixando o random_state = 42: i. RandomForestClassifier(random_state = 42)\n",
    "classifier1 = RandomForestClassifier(random_state = 42)\n",
    "\n",
    "#instanciando e modelando o grid search com os hiperparametros e a validação definidas.\n",
    "# g. Random_state = 42.\n",
    "# h. Número de iterações = 5.\n",
    "random_cv1 = RandomizedSearchCV(classifier1, distributions1, cv = cv_strat, scoring = f1, random_state = 42, n_iter = 5)\n",
    "random_cv1.fit(data, labels)"
   ]
  },
  {
   "cell_type": "code",
   "execution_count": 42,
   "metadata": {},
   "outputs": [
    {
     "output_type": "stream",
     "name": "stdout",
     "text": [
      "Melhor resultado f1: 0.8019647527623143\n\n\nMelhor configuração de hiperparâmetros: {'bootstrap': True, 'criterion': 'gini', 'n_estimators': 171}\n\n\nConfigurações de todos os hiperparâmetros do melhor estimado encontrado pelo RandomizedSearchCV: \n RandomForestClassifier(n_estimators=171, random_state=42)\n"
     ]
    }
   ],
   "source": [
    "# 8. Avaliar o resultado da modelagem usando as métricas:\n",
    "# a. best_score_\n",
    "# b. best_params_\n",
    "# c. best_estimator_\n",
    "print('Melhor resultado f1:', random_cv1.best_score_)\n",
    "print('\\n\\nMelhor configuração de hiperparâmetros:', random_cv1.best_params_)\n",
    "print( '\\n\\nConfigurações de todos os hiperparâmetros do melhor estimado encontrado pelo RandomizedSearchCV: \\n', random_cv1.best_estimator_)"
   ]
  }
 ]
}